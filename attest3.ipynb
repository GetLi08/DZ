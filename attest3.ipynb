{
 "cells": [
  {
   "cell_type": "code",
   "execution_count": 592,
   "id": "f438435f-a89d-4822-989b-764bc5bfcde6",
   "metadata": {},
   "outputs": [],
   "source": [
    "import numpy as np\n",
    "import pandas as pd\n",
    "import seaborn as sns\n",
    "import statsmodels.api as sm\n",
    "import matplotlib.pyplot as plt\n",
    "from scipy import stats\n",
    "from sklearn.preprocessing import MinMaxScaler\n",
    "from sklearn.metrics import precision_score, recall_score\n",
    "from sklearn.model_selection import train_test_split\n",
    "from sklearn.neighbors import KNeighborsClassifier\n",
    "from sklearn.tree import DecisionTreeClassifier\n",
    "from sklearn.ensemble import RandomForestClassifier"
   ]
  },
  {
   "cell_type": "markdown",
   "id": "5d95cfc4-85d6-42c7-82f8-9b690802f7a1",
   "metadata": {},
   "source": [
    "### Рассмотрим датасет по данными по безработным синим воротничкам с 1982 по 1991 годы¶"
   ]
  },
  {
   "cell_type": "code",
   "execution_count": 595,
   "id": "c6998ec2-83e7-4336-b6c9-be9713f07625",
   "metadata": {},
   "outputs": [
    {
     "data": {
      "text/html": [
       "<div>\n",
       "<style scoped>\n",
       "    .dataframe tbody tr th:only-of-type {\n",
       "        vertical-align: middle;\n",
       "    }\n",
       "\n",
       "    .dataframe tbody tr th {\n",
       "        vertical-align: top;\n",
       "    }\n",
       "\n",
       "    .dataframe thead th {\n",
       "        text-align: right;\n",
       "    }\n",
       "</style>\n",
       "<table border=\"1\" class=\"dataframe\">\n",
       "  <thead>\n",
       "    <tr style=\"text-align: right;\">\n",
       "      <th></th>\n",
       "      <th>rownames</th>\n",
       "      <th>stateur</th>\n",
       "      <th>statemb</th>\n",
       "      <th>state</th>\n",
       "      <th>age</th>\n",
       "      <th>tenure</th>\n",
       "      <th>joblost</th>\n",
       "      <th>nwhite</th>\n",
       "      <th>school12</th>\n",
       "      <th>sex</th>\n",
       "      <th>bluecol</th>\n",
       "      <th>smsa</th>\n",
       "      <th>married</th>\n",
       "      <th>dkids</th>\n",
       "      <th>dykids</th>\n",
       "      <th>yrdispl</th>\n",
       "      <th>rr</th>\n",
       "      <th>head</th>\n",
       "      <th>ui</th>\n",
       "    </tr>\n",
       "  </thead>\n",
       "  <tbody>\n",
       "    <tr>\n",
       "      <th>0</th>\n",
       "      <td>1</td>\n",
       "      <td>4.5</td>\n",
       "      <td>167</td>\n",
       "      <td>42</td>\n",
       "      <td>49</td>\n",
       "      <td>21</td>\n",
       "      <td>other</td>\n",
       "      <td>no</td>\n",
       "      <td>no</td>\n",
       "      <td>male</td>\n",
       "      <td>yes</td>\n",
       "      <td>yes</td>\n",
       "      <td>no</td>\n",
       "      <td>no</td>\n",
       "      <td>no</td>\n",
       "      <td>7</td>\n",
       "      <td>0.290631</td>\n",
       "      <td>yes</td>\n",
       "      <td>yes</td>\n",
       "    </tr>\n",
       "    <tr>\n",
       "      <th>1</th>\n",
       "      <td>2</td>\n",
       "      <td>10.5</td>\n",
       "      <td>251</td>\n",
       "      <td>55</td>\n",
       "      <td>26</td>\n",
       "      <td>2</td>\n",
       "      <td>slack_work</td>\n",
       "      <td>no</td>\n",
       "      <td>no</td>\n",
       "      <td>male</td>\n",
       "      <td>yes</td>\n",
       "      <td>yes</td>\n",
       "      <td>no</td>\n",
       "      <td>yes</td>\n",
       "      <td>yes</td>\n",
       "      <td>10</td>\n",
       "      <td>0.520202</td>\n",
       "      <td>yes</td>\n",
       "      <td>no</td>\n",
       "    </tr>\n",
       "    <tr>\n",
       "      <th>2</th>\n",
       "      <td>3</td>\n",
       "      <td>7.2</td>\n",
       "      <td>260</td>\n",
       "      <td>21</td>\n",
       "      <td>40</td>\n",
       "      <td>19</td>\n",
       "      <td>other</td>\n",
       "      <td>no</td>\n",
       "      <td>yes</td>\n",
       "      <td>female</td>\n",
       "      <td>yes</td>\n",
       "      <td>yes</td>\n",
       "      <td>yes</td>\n",
       "      <td>no</td>\n",
       "      <td>no</td>\n",
       "      <td>10</td>\n",
       "      <td>0.432490</td>\n",
       "      <td>yes</td>\n",
       "      <td>yes</td>\n",
       "    </tr>\n",
       "    <tr>\n",
       "      <th>3</th>\n",
       "      <td>4</td>\n",
       "      <td>5.8</td>\n",
       "      <td>245</td>\n",
       "      <td>56</td>\n",
       "      <td>51</td>\n",
       "      <td>17</td>\n",
       "      <td>slack_work</td>\n",
       "      <td>yes</td>\n",
       "      <td>no</td>\n",
       "      <td>female</td>\n",
       "      <td>yes</td>\n",
       "      <td>yes</td>\n",
       "      <td>yes</td>\n",
       "      <td>no</td>\n",
       "      <td>no</td>\n",
       "      <td>10</td>\n",
       "      <td>0.500000</td>\n",
       "      <td>no</td>\n",
       "      <td>yes</td>\n",
       "    </tr>\n",
       "    <tr>\n",
       "      <th>4</th>\n",
       "      <td>5</td>\n",
       "      <td>6.5</td>\n",
       "      <td>125</td>\n",
       "      <td>58</td>\n",
       "      <td>33</td>\n",
       "      <td>1</td>\n",
       "      <td>slack_work</td>\n",
       "      <td>no</td>\n",
       "      <td>yes</td>\n",
       "      <td>male</td>\n",
       "      <td>yes</td>\n",
       "      <td>yes</td>\n",
       "      <td>yes</td>\n",
       "      <td>yes</td>\n",
       "      <td>yes</td>\n",
       "      <td>4</td>\n",
       "      <td>0.390625</td>\n",
       "      <td>yes</td>\n",
       "      <td>no</td>\n",
       "    </tr>\n",
       "  </tbody>\n",
       "</table>\n",
       "</div>"
      ],
      "text/plain": [
       "   rownames  stateur  statemb  state  age  tenure     joblost nwhite school12  \\\n",
       "0         1      4.5      167     42   49      21       other     no       no   \n",
       "1         2     10.5      251     55   26       2  slack_work     no       no   \n",
       "2         3      7.2      260     21   40      19       other     no      yes   \n",
       "3         4      5.8      245     56   51      17  slack_work    yes       no   \n",
       "4         5      6.5      125     58   33       1  slack_work     no      yes   \n",
       "\n",
       "      sex bluecol smsa married dkids dykids  yrdispl        rr head   ui  \n",
       "0    male     yes  yes      no    no     no        7  0.290631  yes  yes  \n",
       "1    male     yes  yes      no   yes    yes       10  0.520202  yes   no  \n",
       "2  female     yes  yes     yes    no     no       10  0.432490  yes  yes  \n",
       "3  female     yes  yes     yes    no     no       10  0.500000   no  yes  \n",
       "4    male     yes  yes     yes   yes    yes        4  0.390625  yes   no  "
      ]
     },
     "execution_count": 595,
     "metadata": {},
     "output_type": "execute_result"
    }
   ],
   "source": [
    "df = pd.read_csv(r\"https://vincentarelbundock.github.io/Rdatasets/csv/Ecdat/Benefits.csv\")\n",
    "df.head()"
   ]
  },
  {
   "cell_type": "markdown",
   "id": "d55f43eb-dfad-4ebc-a381-2a3ba40346e3",
   "metadata": {},
   "source": [
    "## Задача: выбрать модель, которая с высокой точностью сможет предсказать вероятность получения пособия по безработице для конкретного работника"
   ]
  },
  {
   "cell_type": "markdown",
   "id": "36f4c384-3e94-4438-bdd1-aacc4045c115",
   "metadata": {},
   "source": [
    "### Создаю датасет со значимыми для анализа данными"
   ]
  },
  {
   "cell_type": "code",
   "execution_count": 599,
   "id": "b1ce8cb3-6da6-4cd1-a955-8b3496a4efc5",
   "metadata": {},
   "outputs": [
    {
     "data": {
      "text/html": [
       "<div>\n",
       "<style scoped>\n",
       "    .dataframe tbody tr th:only-of-type {\n",
       "        vertical-align: middle;\n",
       "    }\n",
       "\n",
       "    .dataframe tbody tr th {\n",
       "        vertical-align: top;\n",
       "    }\n",
       "\n",
       "    .dataframe thead th {\n",
       "        text-align: right;\n",
       "    }\n",
       "</style>\n",
       "<table border=\"1\" class=\"dataframe\">\n",
       "  <thead>\n",
       "    <tr style=\"text-align: right;\">\n",
       "      <th></th>\n",
       "      <th>statemb</th>\n",
       "      <th>state</th>\n",
       "      <th>age</th>\n",
       "      <th>tenure</th>\n",
       "      <th>joblost</th>\n",
       "      <th>nwhite</th>\n",
       "      <th>school12</th>\n",
       "      <th>sex</th>\n",
       "      <th>married</th>\n",
       "      <th>dkids</th>\n",
       "      <th>dykids</th>\n",
       "      <th>head</th>\n",
       "      <th>ui</th>\n",
       "    </tr>\n",
       "  </thead>\n",
       "  <tbody>\n",
       "    <tr>\n",
       "      <th>0</th>\n",
       "      <td>167</td>\n",
       "      <td>42</td>\n",
       "      <td>49</td>\n",
       "      <td>21</td>\n",
       "      <td>other</td>\n",
       "      <td>no</td>\n",
       "      <td>no</td>\n",
       "      <td>male</td>\n",
       "      <td>no</td>\n",
       "      <td>no</td>\n",
       "      <td>no</td>\n",
       "      <td>yes</td>\n",
       "      <td>yes</td>\n",
       "    </tr>\n",
       "    <tr>\n",
       "      <th>1</th>\n",
       "      <td>251</td>\n",
       "      <td>55</td>\n",
       "      <td>26</td>\n",
       "      <td>2</td>\n",
       "      <td>slack_work</td>\n",
       "      <td>no</td>\n",
       "      <td>no</td>\n",
       "      <td>male</td>\n",
       "      <td>no</td>\n",
       "      <td>yes</td>\n",
       "      <td>yes</td>\n",
       "      <td>yes</td>\n",
       "      <td>no</td>\n",
       "    </tr>\n",
       "    <tr>\n",
       "      <th>2</th>\n",
       "      <td>260</td>\n",
       "      <td>21</td>\n",
       "      <td>40</td>\n",
       "      <td>19</td>\n",
       "      <td>other</td>\n",
       "      <td>no</td>\n",
       "      <td>yes</td>\n",
       "      <td>female</td>\n",
       "      <td>yes</td>\n",
       "      <td>no</td>\n",
       "      <td>no</td>\n",
       "      <td>yes</td>\n",
       "      <td>yes</td>\n",
       "    </tr>\n",
       "    <tr>\n",
       "      <th>3</th>\n",
       "      <td>245</td>\n",
       "      <td>56</td>\n",
       "      <td>51</td>\n",
       "      <td>17</td>\n",
       "      <td>slack_work</td>\n",
       "      <td>yes</td>\n",
       "      <td>no</td>\n",
       "      <td>female</td>\n",
       "      <td>yes</td>\n",
       "      <td>no</td>\n",
       "      <td>no</td>\n",
       "      <td>no</td>\n",
       "      <td>yes</td>\n",
       "    </tr>\n",
       "    <tr>\n",
       "      <th>4</th>\n",
       "      <td>125</td>\n",
       "      <td>58</td>\n",
       "      <td>33</td>\n",
       "      <td>1</td>\n",
       "      <td>slack_work</td>\n",
       "      <td>no</td>\n",
       "      <td>yes</td>\n",
       "      <td>male</td>\n",
       "      <td>yes</td>\n",
       "      <td>yes</td>\n",
       "      <td>yes</td>\n",
       "      <td>yes</td>\n",
       "      <td>no</td>\n",
       "    </tr>\n",
       "  </tbody>\n",
       "</table>\n",
       "</div>"
      ],
      "text/plain": [
       "   statemb  state  age  tenure     joblost nwhite school12     sex married  \\\n",
       "0      167     42   49      21       other     no       no    male      no   \n",
       "1      251     55   26       2  slack_work     no       no    male      no   \n",
       "2      260     21   40      19       other     no      yes  female     yes   \n",
       "3      245     56   51      17  slack_work    yes       no  female     yes   \n",
       "4      125     58   33       1  slack_work     no      yes    male     yes   \n",
       "\n",
       "  dkids dykids head   ui  \n",
       "0    no     no  yes  yes  \n",
       "1   yes    yes  yes   no  \n",
       "2    no     no  yes  yes  \n",
       "3    no     no   no  yes  \n",
       "4   yes    yes  yes   no  "
      ]
     },
     "execution_count": 599,
     "metadata": {},
     "output_type": "execute_result"
    }
   ],
   "source": [
    "df_n = df[['statemb', 'state', 'age', 'tenure', 'joblost', 'nwhite',\t'school12',\t'sex', 'married', 'dkids', 'dykids', 'head', 'ui']]\n",
    "df_n.head()"
   ]
  },
  {
   "cell_type": "code",
   "execution_count": 601,
   "id": "2a158fd8-a2c0-4273-ba04-993cd3789419",
   "metadata": {},
   "outputs": [
    {
     "name": "stdout",
     "output_type": "stream",
     "text": [
      "<class 'pandas.core.frame.DataFrame'>\n",
      "RangeIndex: 4877 entries, 0 to 4876\n",
      "Data columns (total 13 columns):\n",
      " #   Column    Non-Null Count  Dtype \n",
      "---  ------    --------------  ----- \n",
      " 0   statemb   4877 non-null   int64 \n",
      " 1   state     4877 non-null   int64 \n",
      " 2   age       4877 non-null   int64 \n",
      " 3   tenure    4877 non-null   int64 \n",
      " 4   joblost   4877 non-null   object\n",
      " 5   nwhite    4877 non-null   object\n",
      " 6   school12  4877 non-null   object\n",
      " 7   sex       4877 non-null   object\n",
      " 8   married   4877 non-null   object\n",
      " 9   dkids     4877 non-null   object\n",
      " 10  dykids    4877 non-null   object\n",
      " 11  head      4877 non-null   object\n",
      " 12  ui        4877 non-null   object\n",
      "dtypes: int64(4), object(9)\n",
      "memory usage: 495.4+ KB\n"
     ]
    }
   ],
   "source": [
    "df_n.info()"
   ]
  },
  {
   "cell_type": "markdown",
   "id": "7010ca6d-5eeb-426c-b155-9402ae710afb",
   "metadata": {},
   "source": [
    "### Для удобства обработки данных разделяю на числовые и категориальные, и категориальные переменные перевожу в числовой формат"
   ]
  },
  {
   "cell_type": "code",
   "execution_count": 604,
   "id": "d50f41c9-94f1-4018-8b35-48babdab2e3e",
   "metadata": {},
   "outputs": [],
   "source": [
    "cat_vars = ['joblost', 'nwhite',\t'school12',\t'sex', 'married', 'dkids', 'dykids', 'head']\n",
    "num_vars = ['statemb', 'state', 'age', 'tenure']"
   ]
  },
  {
   "cell_type": "code",
   "execution_count": 606,
   "id": "71e1a430-208f-48ee-a705-22f48ce90727",
   "metadata": {},
   "outputs": [],
   "source": [
    "X = df_n[['joblost', 'nwhite',\t'school12',\t'sex', 'married', 'dkids', 'dykids', 'head', 'statemb', 'state', 'age', 'tenure']].values\n",
    "y = df_n['ui'].values"
   ]
  },
  {
   "cell_type": "code",
   "execution_count": 608,
   "id": "dd960a3a-4c89-4280-b74b-621b00c0a923",
   "metadata": {},
   "outputs": [
    {
     "data": {
      "text/html": [
       "<div>\n",
       "<style scoped>\n",
       "    .dataframe tbody tr th:only-of-type {\n",
       "        vertical-align: middle;\n",
       "    }\n",
       "\n",
       "    .dataframe tbody tr th {\n",
       "        vertical-align: top;\n",
       "    }\n",
       "\n",
       "    .dataframe thead th {\n",
       "        text-align: right;\n",
       "    }\n",
       "</style>\n",
       "<table border=\"1\" class=\"dataframe\">\n",
       "  <thead>\n",
       "    <tr style=\"text-align: right;\">\n",
       "      <th></th>\n",
       "      <th>joblost_position_abolished</th>\n",
       "      <th>joblost_seasonal_job_ended</th>\n",
       "      <th>joblost_slack_work</th>\n",
       "      <th>nwhite_yes</th>\n",
       "      <th>school12_yes</th>\n",
       "      <th>sex_male</th>\n",
       "      <th>married_yes</th>\n",
       "      <th>dkids_yes</th>\n",
       "      <th>dykids_yes</th>\n",
       "      <th>head_yes</th>\n",
       "    </tr>\n",
       "  </thead>\n",
       "  <tbody>\n",
       "    <tr>\n",
       "      <th>0</th>\n",
       "      <td>0</td>\n",
       "      <td>0</td>\n",
       "      <td>0</td>\n",
       "      <td>0</td>\n",
       "      <td>0</td>\n",
       "      <td>1</td>\n",
       "      <td>0</td>\n",
       "      <td>0</td>\n",
       "      <td>0</td>\n",
       "      <td>1</td>\n",
       "    </tr>\n",
       "    <tr>\n",
       "      <th>1</th>\n",
       "      <td>0</td>\n",
       "      <td>0</td>\n",
       "      <td>1</td>\n",
       "      <td>0</td>\n",
       "      <td>0</td>\n",
       "      <td>1</td>\n",
       "      <td>0</td>\n",
       "      <td>1</td>\n",
       "      <td>1</td>\n",
       "      <td>1</td>\n",
       "    </tr>\n",
       "    <tr>\n",
       "      <th>2</th>\n",
       "      <td>0</td>\n",
       "      <td>0</td>\n",
       "      <td>0</td>\n",
       "      <td>0</td>\n",
       "      <td>1</td>\n",
       "      <td>0</td>\n",
       "      <td>1</td>\n",
       "      <td>0</td>\n",
       "      <td>0</td>\n",
       "      <td>1</td>\n",
       "    </tr>\n",
       "    <tr>\n",
       "      <th>3</th>\n",
       "      <td>0</td>\n",
       "      <td>0</td>\n",
       "      <td>1</td>\n",
       "      <td>1</td>\n",
       "      <td>0</td>\n",
       "      <td>0</td>\n",
       "      <td>1</td>\n",
       "      <td>0</td>\n",
       "      <td>0</td>\n",
       "      <td>0</td>\n",
       "    </tr>\n",
       "    <tr>\n",
       "      <th>4</th>\n",
       "      <td>0</td>\n",
       "      <td>0</td>\n",
       "      <td>1</td>\n",
       "      <td>0</td>\n",
       "      <td>1</td>\n",
       "      <td>1</td>\n",
       "      <td>1</td>\n",
       "      <td>1</td>\n",
       "      <td>1</td>\n",
       "      <td>1</td>\n",
       "    </tr>\n",
       "  </tbody>\n",
       "</table>\n",
       "</div>"
      ],
      "text/plain": [
       "   joblost_position_abolished  joblost_seasonal_job_ended  joblost_slack_work  \\\n",
       "0                           0                           0                   0   \n",
       "1                           0                           0                   1   \n",
       "2                           0                           0                   0   \n",
       "3                           0                           0                   1   \n",
       "4                           0                           0                   1   \n",
       "\n",
       "   nwhite_yes  school12_yes  sex_male  married_yes  dkids_yes  dykids_yes  \\\n",
       "0           0             0         1            0          0           0   \n",
       "1           0             0         1            0          1           1   \n",
       "2           0             1         0            1          0           0   \n",
       "3           1             0         0            1          0           0   \n",
       "4           0             1         1            1          1           1   \n",
       "\n",
       "   head_yes  \n",
       "0         1  \n",
       "1         1  \n",
       "2         1  \n",
       "3         0  \n",
       "4         1  "
      ]
     },
     "execution_count": 608,
     "metadata": {},
     "output_type": "execute_result"
    }
   ],
   "source": [
    "X = pd.get_dummies(df_n[cat_vars], drop_first = True, dtype = int)\n",
    "X.head()"
   ]
  },
  {
   "cell_type": "code",
   "execution_count": 610,
   "id": "541b165f-a19f-4400-82a4-7812918fe0e7",
   "metadata": {},
   "outputs": [
    {
     "name": "stdout",
     "output_type": "stream",
     "text": [
      "<class 'pandas.core.frame.DataFrame'>\n",
      "RangeIndex: 4877 entries, 0 to 4876\n",
      "Data columns (total 10 columns):\n",
      " #   Column                      Non-Null Count  Dtype\n",
      "---  ------                      --------------  -----\n",
      " 0   joblost_position_abolished  4877 non-null   int32\n",
      " 1   joblost_seasonal_job_ended  4877 non-null   int32\n",
      " 2   joblost_slack_work          4877 non-null   int32\n",
      " 3   nwhite_yes                  4877 non-null   int32\n",
      " 4   school12_yes                4877 non-null   int32\n",
      " 5   sex_male                    4877 non-null   int32\n",
      " 6   married_yes                 4877 non-null   int32\n",
      " 7   dkids_yes                   4877 non-null   int32\n",
      " 8   dykids_yes                  4877 non-null   int32\n",
      " 9   head_yes                    4877 non-null   int32\n",
      "dtypes: int32(10)\n",
      "memory usage: 190.6 KB\n"
     ]
    }
   ],
   "source": [
    "X.info()"
   ]
  },
  {
   "cell_type": "code",
   "execution_count": 612,
   "id": "bf4aa341-975c-4958-acf0-f9b1188feaca",
   "metadata": {},
   "outputs": [
    {
     "name": "stdout",
     "output_type": "stream",
     "text": [
      "<class 'pandas.core.frame.DataFrame'>\n",
      "RangeIndex: 4877 entries, 0 to 4876\n",
      "Data columns (total 1 columns):\n",
      " #   Column  Non-Null Count  Dtype\n",
      "---  ------  --------------  -----\n",
      " 0   yes     4877 non-null   int32\n",
      "dtypes: int32(1)\n",
      "memory usage: 19.2 KB\n"
     ]
    }
   ],
   "source": [
    "y = pd.get_dummies(df_n['ui'], drop_first = True, dtype = int)\n",
    "y.info()"
   ]
  },
  {
   "cell_type": "markdown",
   "id": "22f79d94-943a-4e76-8cc3-d6842f18894c",
   "metadata": {},
   "source": [
    "### Нормализация числовых переменных"
   ]
  },
  {
   "cell_type": "code",
   "execution_count": 615,
   "id": "540492af-2e39-48e5-b305-0e6f92f303f8",
   "metadata": {},
   "outputs": [
    {
     "data": {
      "text/html": [
       "<div>\n",
       "<style scoped>\n",
       "    .dataframe tbody tr th:only-of-type {\n",
       "        vertical-align: middle;\n",
       "    }\n",
       "\n",
       "    .dataframe tbody tr th {\n",
       "        vertical-align: top;\n",
       "    }\n",
       "\n",
       "    .dataframe thead th {\n",
       "        text-align: right;\n",
       "    }\n",
       "</style>\n",
       "<table border=\"1\" class=\"dataframe\">\n",
       "  <thead>\n",
       "    <tr style=\"text-align: right;\">\n",
       "      <th></th>\n",
       "      <th>joblost_position_abolished</th>\n",
       "      <th>joblost_seasonal_job_ended</th>\n",
       "      <th>joblost_slack_work</th>\n",
       "      <th>nwhite_yes</th>\n",
       "      <th>school12_yes</th>\n",
       "      <th>sex_male</th>\n",
       "      <th>married_yes</th>\n",
       "      <th>dkids_yes</th>\n",
       "      <th>dykids_yes</th>\n",
       "      <th>head_yes</th>\n",
       "      <th>statemb</th>\n",
       "      <th>state</th>\n",
       "      <th>age</th>\n",
       "      <th>tenure</th>\n",
       "    </tr>\n",
       "  </thead>\n",
       "  <tbody>\n",
       "    <tr>\n",
       "      <th>0</th>\n",
       "      <td>0</td>\n",
       "      <td>0</td>\n",
       "      <td>0</td>\n",
       "      <td>0</td>\n",
       "      <td>0</td>\n",
       "      <td>1</td>\n",
       "      <td>0</td>\n",
       "      <td>0</td>\n",
       "      <td>0</td>\n",
       "      <td>1</td>\n",
       "      <td>0.397129</td>\n",
       "      <td>0.369048</td>\n",
       "      <td>0.707317</td>\n",
       "      <td>0.500</td>\n",
       "    </tr>\n",
       "    <tr>\n",
       "      <th>1</th>\n",
       "      <td>0</td>\n",
       "      <td>0</td>\n",
       "      <td>1</td>\n",
       "      <td>0</td>\n",
       "      <td>0</td>\n",
       "      <td>1</td>\n",
       "      <td>0</td>\n",
       "      <td>1</td>\n",
       "      <td>1</td>\n",
       "      <td>1</td>\n",
       "      <td>0.799043</td>\n",
       "      <td>0.523810</td>\n",
       "      <td>0.146341</td>\n",
       "      <td>0.025</td>\n",
       "    </tr>\n",
       "    <tr>\n",
       "      <th>2</th>\n",
       "      <td>0</td>\n",
       "      <td>0</td>\n",
       "      <td>0</td>\n",
       "      <td>0</td>\n",
       "      <td>1</td>\n",
       "      <td>0</td>\n",
       "      <td>1</td>\n",
       "      <td>0</td>\n",
       "      <td>0</td>\n",
       "      <td>1</td>\n",
       "      <td>0.842105</td>\n",
       "      <td>0.119048</td>\n",
       "      <td>0.487805</td>\n",
       "      <td>0.450</td>\n",
       "    </tr>\n",
       "    <tr>\n",
       "      <th>3</th>\n",
       "      <td>0</td>\n",
       "      <td>0</td>\n",
       "      <td>1</td>\n",
       "      <td>1</td>\n",
       "      <td>0</td>\n",
       "      <td>0</td>\n",
       "      <td>1</td>\n",
       "      <td>0</td>\n",
       "      <td>0</td>\n",
       "      <td>0</td>\n",
       "      <td>0.770335</td>\n",
       "      <td>0.535714</td>\n",
       "      <td>0.756098</td>\n",
       "      <td>0.400</td>\n",
       "    </tr>\n",
       "    <tr>\n",
       "      <th>4</th>\n",
       "      <td>0</td>\n",
       "      <td>0</td>\n",
       "      <td>1</td>\n",
       "      <td>0</td>\n",
       "      <td>1</td>\n",
       "      <td>1</td>\n",
       "      <td>1</td>\n",
       "      <td>1</td>\n",
       "      <td>1</td>\n",
       "      <td>1</td>\n",
       "      <td>0.196172</td>\n",
       "      <td>0.559524</td>\n",
       "      <td>0.317073</td>\n",
       "      <td>0.000</td>\n",
       "    </tr>\n",
       "  </tbody>\n",
       "</table>\n",
       "</div>"
      ],
      "text/plain": [
       "   joblost_position_abolished  joblost_seasonal_job_ended  joblost_slack_work  \\\n",
       "0                           0                           0                   0   \n",
       "1                           0                           0                   1   \n",
       "2                           0                           0                   0   \n",
       "3                           0                           0                   1   \n",
       "4                           0                           0                   1   \n",
       "\n",
       "   nwhite_yes  school12_yes  sex_male  married_yes  dkids_yes  dykids_yes  \\\n",
       "0           0             0         1            0          0           0   \n",
       "1           0             0         1            0          1           1   \n",
       "2           0             1         0            1          0           0   \n",
       "3           1             0         0            1          0           0   \n",
       "4           0             1         1            1          1           1   \n",
       "\n",
       "   head_yes   statemb     state       age  tenure  \n",
       "0         1  0.397129  0.369048  0.707317   0.500  \n",
       "1         1  0.799043  0.523810  0.146341   0.025  \n",
       "2         1  0.842105  0.119048  0.487805   0.450  \n",
       "3         0  0.770335  0.535714  0.756098   0.400  \n",
       "4         1  0.196172  0.559524  0.317073   0.000  "
      ]
     },
     "execution_count": 615,
     "metadata": {},
     "output_type": "execute_result"
    }
   ],
   "source": [
    "scaler = MinMaxScaler()\n",
    "scaler.fit(df_n[num_vars])\n",
    "X[num_vars] = scaler.transform(df_n[num_vars])\n",
    "X.head()"
   ]
  },
  {
   "cell_type": "markdown",
   "id": "faf51b51-0045-4a0e-b6a2-170290e6e5c7",
   "metadata": {},
   "source": [
    "### Разделение на обучающую, тестовую и прогнозную части "
   ]
  },
  {
   "cell_type": "code",
   "execution_count": 618,
   "id": "82d0c513-bc81-4b55-95a4-7ad1f62e966b",
   "metadata": {},
   "outputs": [],
   "source": [
    "X_train, X_test, y_train, y_test = train_test_split(X, y, test_size = 0.4, random_state = 20)"
   ]
  },
  {
   "cell_type": "code",
   "execution_count": 620,
   "id": "78afe314-ea37-44c3-a7ed-15f1c7783e69",
   "metadata": {},
   "outputs": [],
   "source": [
    "X_test, X_forecast, y_test, y_forecast = train_test_split(X_test, y_test, test_size = 0.5, random_state = 20)"
   ]
  },
  {
   "cell_type": "markdown",
   "id": "3357fa3a-4a30-4f1e-a217-e9522253289c",
   "metadata": {},
   "source": [
    "### Проверяю несколько моделей для оценки какая из них более эффективно прогнозирует результат решения по выплате пособия по безработице"
   ]
  },
  {
   "cell_type": "code",
   "execution_count": 623,
   "id": "1879a809-3d12-4b87-9896-50565ba31e0c",
   "metadata": {},
   "outputs": [
    {
     "name": "stdout",
     "output_type": "stream",
     "text": [
      "Precision: 0.691 Recall 0.771\n"
     ]
    },
    {
     "name": "stderr",
     "output_type": "stream",
     "text": [
      "C:\\ProgramData\\anaconda3\\Lib\\site-packages\\sklearn\\neighbors\\_classification.py:238: DataConversionWarning: A column-vector y was passed when a 1d array was expected. Please change the shape of y to (n_samples,), for example using ravel().\n",
      "  return self._fit(X, y)\n"
     ]
    }
   ],
   "source": [
    "neigh = KNeighborsClassifier(n_neighbors = 3)\n",
    "neigh.fit(X_train, y_train)\n",
    "y_pred = neigh.predict(X_test)\n",
    "print(\n",
    "    'Precision:', np.round(precision_score(y_test, y_pred),3), \n",
    "    'Recall', np.round(recall_score(y_test, y_pred),3)\n",
    ")"
   ]
  },
  {
   "cell_type": "code",
   "execution_count": 625,
   "id": "d2a09e83-68fd-4ca9-80d7-969bceb2999e",
   "metadata": {},
   "outputs": [
    {
     "name": "stderr",
     "output_type": "stream",
     "text": [
      "C:\\ProgramData\\anaconda3\\Lib\\site-packages\\sklearn\\neighbors\\_classification.py:238: DataConversionWarning: A column-vector y was passed when a 1d array was expected. Please change the shape of y to (n_samples,), for example using ravel().\n",
      "  return self._fit(X, y)\n",
      "C:\\ProgramData\\anaconda3\\Lib\\site-packages\\sklearn\\neighbors\\_classification.py:238: DataConversionWarning: A column-vector y was passed when a 1d array was expected. Please change the shape of y to (n_samples,), for example using ravel().\n",
      "  return self._fit(X, y)\n"
     ]
    },
    {
     "name": "stdout",
     "output_type": "stream",
     "text": [
      "Neigbors: 3 Precision: 0.691 Recall 0.771\n",
      "Neigbors: 5 Precision: 0.701 Recall 0.842\n",
      "Neigbors: 7 Precision: 0.703 Recall 0.87\n"
     ]
    },
    {
     "name": "stderr",
     "output_type": "stream",
     "text": [
      "C:\\ProgramData\\anaconda3\\Lib\\site-packages\\sklearn\\neighbors\\_classification.py:238: DataConversionWarning: A column-vector y was passed when a 1d array was expected. Please change the shape of y to (n_samples,), for example using ravel().\n",
      "  return self._fit(X, y)\n",
      "C:\\ProgramData\\anaconda3\\Lib\\site-packages\\sklearn\\neighbors\\_classification.py:238: DataConversionWarning: A column-vector y was passed when a 1d array was expected. Please change the shape of y to (n_samples,), for example using ravel().\n",
      "  return self._fit(X, y)\n"
     ]
    },
    {
     "name": "stdout",
     "output_type": "stream",
     "text": [
      "Neigbors: 9 Precision: 0.704 Recall 0.882\n",
      "Neigbors: 11 Precision: 0.703 Recall 0.888\n"
     ]
    },
    {
     "name": "stderr",
     "output_type": "stream",
     "text": [
      "C:\\ProgramData\\anaconda3\\Lib\\site-packages\\sklearn\\neighbors\\_classification.py:238: DataConversionWarning: A column-vector y was passed when a 1d array was expected. Please change the shape of y to (n_samples,), for example using ravel().\n",
      "  return self._fit(X, y)\n",
      "C:\\ProgramData\\anaconda3\\Lib\\site-packages\\sklearn\\neighbors\\_classification.py:238: DataConversionWarning: A column-vector y was passed when a 1d array was expected. Please change the shape of y to (n_samples,), for example using ravel().\n",
      "  return self._fit(X, y)\n"
     ]
    },
    {
     "name": "stdout",
     "output_type": "stream",
     "text": [
      "Neigbors: 13 Precision: 0.695 Recall 0.889\n"
     ]
    }
   ],
   "source": [
    "for i in range(3, 15, 2):\n",
    "    neigh = KNeighborsClassifier(n_neighbors = i)\n",
    "    neigh.fit(X_train, y_train)\n",
    "    y_pred = neigh.predict(X_test)\n",
    "    print('Neigbors:', i, \n",
    "          'Precision:', np.round(precision_score(y_test, y_pred),3), \n",
    "          'Recall', np.round(recall_score(y_test, y_pred),3)\n",
    "         )"
   ]
  },
  {
   "cell_type": "markdown",
   "id": "1d936d24-416b-4fe5-be07-da99389610b0",
   "metadata": {},
   "source": [
    "#### Модель Neighbors показала лучший результат Precision: 0.703 Recall 0.888 при использовании гиперпараметра Neigbors = 11"
   ]
  },
  {
   "cell_type": "code",
   "execution_count": 628,
   "id": "e05dc8c9-6f82-4d79-b15e-cbec4f831dcc",
   "metadata": {},
   "outputs": [
    {
     "name": "stdout",
     "output_type": "stream",
     "text": [
      "Precision: 0.703 Recall 0.7\n"
     ]
    }
   ],
   "source": [
    "tree_clf = DecisionTreeClassifier()\n",
    "tree_clf.fit(X_train, y_train)\n",
    "y_pred = tree_clf.predict(X_test)\n",
    "print(\n",
    "    'Precision:', np.round(precision_score(y_test, y_pred),3), \n",
    "    'Recall', np.round(recall_score(y_test, y_pred),3)\n",
    ")"
   ]
  },
  {
   "cell_type": "markdown",
   "id": "270ed83b-e0c9-460f-a2fc-aaef0b433d67",
   "metadata": {},
   "source": [
    "#### Модель DecisionTree показала результат Precision: 0.715 Recall 0.706"
   ]
  },
  {
   "cell_type": "code",
   "execution_count": 631,
   "id": "6c8e3944-bd05-4ebf-bb35-b94cd71124db",
   "metadata": {},
   "outputs": [
    {
     "name": "stderr",
     "output_type": "stream",
     "text": [
      "C:\\ProgramData\\anaconda3\\Lib\\site-packages\\sklearn\\base.py:1474: DataConversionWarning: A column-vector y was passed when a 1d array was expected. Please change the shape of y to (n_samples,), for example using ravel().\n",
      "  return fit_method(estimator, *args, **kwargs)\n"
     ]
    },
    {
     "name": "stdout",
     "output_type": "stream",
     "text": [
      "Precision: 0.708 Recall 0.905\n"
     ]
    }
   ],
   "source": [
    "rf_clf = RandomForestClassifier(max_depth=20, random_state=20)\n",
    "rf_clf.fit(X_train, y_train)\n",
    "y_pred = rf_clf.predict(X_test)\n",
    "print(\n",
    "    'Precision:', np.round(precision_score(y_test, y_pred),3), \n",
    "    'Recall', np.round(recall_score(y_test, y_pred),3)\n",
    ")"
   ]
  },
  {
   "cell_type": "code",
   "execution_count": 633,
   "id": "be957ab2-1d5a-44dc-bbae-8dbda40fe0bd",
   "metadata": {},
   "outputs": [
    {
     "name": "stderr",
     "output_type": "stream",
     "text": [
      "C:\\ProgramData\\anaconda3\\Lib\\site-packages\\sklearn\\base.py:1474: DataConversionWarning: A column-vector y was passed when a 1d array was expected. Please change the shape of y to (n_samples,), for example using ravel().\n",
      "  return fit_method(estimator, *args, **kwargs)\n",
      "C:\\ProgramData\\anaconda3\\Lib\\site-packages\\sklearn\\base.py:1474: DataConversionWarning: A column-vector y was passed when a 1d array was expected. Please change the shape of y to (n_samples,), for example using ravel().\n",
      "  return fit_method(estimator, *args, **kwargs)\n"
     ]
    },
    {
     "name": "stdout",
     "output_type": "stream",
     "text": [
      "Depth: 1 Precision: 0.693 Recall 1.0\n",
      "Depth: 3 Precision: 0.693 Recall 1.0\n"
     ]
    },
    {
     "name": "stderr",
     "output_type": "stream",
     "text": [
      "C:\\ProgramData\\anaconda3\\Lib\\site-packages\\sklearn\\base.py:1474: DataConversionWarning: A column-vector y was passed when a 1d array was expected. Please change the shape of y to (n_samples,), for example using ravel().\n",
      "  return fit_method(estimator, *args, **kwargs)\n"
     ]
    },
    {
     "name": "stdout",
     "output_type": "stream",
     "text": [
      "Depth: 5 Precision: 0.696 Recall 1.0\n"
     ]
    },
    {
     "name": "stderr",
     "output_type": "stream",
     "text": [
      "C:\\ProgramData\\anaconda3\\Lib\\site-packages\\sklearn\\base.py:1474: DataConversionWarning: A column-vector y was passed when a 1d array was expected. Please change the shape of y to (n_samples,), for example using ravel().\n",
      "  return fit_method(estimator, *args, **kwargs)\n"
     ]
    },
    {
     "name": "stdout",
     "output_type": "stream",
     "text": [
      "Depth: 7 Precision: 0.704 Recall 0.981\n"
     ]
    },
    {
     "name": "stderr",
     "output_type": "stream",
     "text": [
      "C:\\ProgramData\\anaconda3\\Lib\\site-packages\\sklearn\\base.py:1474: DataConversionWarning: A column-vector y was passed when a 1d array was expected. Please change the shape of y to (n_samples,), for example using ravel().\n",
      "  return fit_method(estimator, *args, **kwargs)\n"
     ]
    },
    {
     "name": "stdout",
     "output_type": "stream",
     "text": [
      "Depth: 9 Precision: 0.704 Recall 0.975\n"
     ]
    },
    {
     "name": "stderr",
     "output_type": "stream",
     "text": [
      "C:\\ProgramData\\anaconda3\\Lib\\site-packages\\sklearn\\base.py:1474: DataConversionWarning: A column-vector y was passed when a 1d array was expected. Please change the shape of y to (n_samples,), for example using ravel().\n",
      "  return fit_method(estimator, *args, **kwargs)\n"
     ]
    },
    {
     "name": "stdout",
     "output_type": "stream",
     "text": [
      "Depth: 11 Precision: 0.706 Recall 0.945\n"
     ]
    },
    {
     "name": "stderr",
     "output_type": "stream",
     "text": [
      "C:\\ProgramData\\anaconda3\\Lib\\site-packages\\sklearn\\base.py:1474: DataConversionWarning: A column-vector y was passed when a 1d array was expected. Please change the shape of y to (n_samples,), for example using ravel().\n",
      "  return fit_method(estimator, *args, **kwargs)\n"
     ]
    },
    {
     "name": "stdout",
     "output_type": "stream",
     "text": [
      "Depth: 13 Precision: 0.712 Recall 0.929\n"
     ]
    },
    {
     "name": "stderr",
     "output_type": "stream",
     "text": [
      "C:\\ProgramData\\anaconda3\\Lib\\site-packages\\sklearn\\base.py:1474: DataConversionWarning: A column-vector y was passed when a 1d array was expected. Please change the shape of y to (n_samples,), for example using ravel().\n",
      "  return fit_method(estimator, *args, **kwargs)\n"
     ]
    },
    {
     "name": "stdout",
     "output_type": "stream",
     "text": [
      "Depth: 15 Precision: 0.708 Recall 0.92\n"
     ]
    },
    {
     "name": "stderr",
     "output_type": "stream",
     "text": [
      "C:\\ProgramData\\anaconda3\\Lib\\site-packages\\sklearn\\base.py:1474: DataConversionWarning: A column-vector y was passed when a 1d array was expected. Please change the shape of y to (n_samples,), for example using ravel().\n",
      "  return fit_method(estimator, *args, **kwargs)\n"
     ]
    },
    {
     "name": "stdout",
     "output_type": "stream",
     "text": [
      "Depth: 17 Precision: 0.713 Recall 0.901\n"
     ]
    },
    {
     "name": "stderr",
     "output_type": "stream",
     "text": [
      "C:\\ProgramData\\anaconda3\\Lib\\site-packages\\sklearn\\base.py:1474: DataConversionWarning: A column-vector y was passed when a 1d array was expected. Please change the shape of y to (n_samples,), for example using ravel().\n",
      "  return fit_method(estimator, *args, **kwargs)\n"
     ]
    },
    {
     "name": "stdout",
     "output_type": "stream",
     "text": [
      "Depth: 19 Precision: 0.71 Recall 0.899\n"
     ]
    }
   ],
   "source": [
    "for i in range(1, 20, 2):\n",
    "    rf_clf = RandomForestClassifier(max_depth=i, random_state=20)\n",
    "    rf_clf.fit(X_train, y_train)\n",
    "    y_pred = rf_clf.predict(X_test)\n",
    "    print('Depth:', i, \n",
    "          'Precision:', np.round(precision_score(y_test, y_pred),3), \n",
    "          'Recall', np.round(recall_score(y_test, y_pred),3)\n",
    "         )"
   ]
  },
  {
   "cell_type": "markdown",
   "id": "5d6d0c64-56dc-4cd3-8da9-b68d9faa41c0",
   "metadata": {},
   "source": [
    "#### Модель RandomForest по моему мнению показала лучший результат сочетания точности и полноты предсказания Precision: 0.712 Recall 0.929 при использовании гиперпараметра depth = 13"
   ]
  },
  {
   "cell_type": "code",
   "execution_count": 636,
   "id": "e5dca211-713d-47b2-8245-f4470fdaeb87",
   "metadata": {},
   "outputs": [
    {
     "name": "stdout",
     "output_type": "stream",
     "text": [
      "Precision: 0.706 Recall 0.894\n"
     ]
    }
   ],
   "source": [
    "y_pred = rf_clf.predict(X_forecast)\n",
    "print(\n",
    "    'Precision:', np.round(precision_score(y_forecast, y_pred),3), \n",
    "    'Recall', np.round(recall_score(y_forecast, y_pred),3)\n",
    ")"
   ]
  },
  {
   "cell_type": "markdown",
   "id": "862e7315-762f-416b-a77a-2ff85ad1f515",
   "metadata": {},
   "source": [
    "### Сравнивая предсказанные значения со значениями истинными, выбранная модель с 70% точностью предсказала результат."
   ]
  },
  {
   "cell_type": "markdown",
   "id": "1526b325-4ea4-498f-8181-114d893f0b45",
   "metadata": {},
   "source": [
    "### Это означает, что данная модель с довольно высокой точностью сможет предсказать вероятность получения пособия по безработице для конкретного работника с набором его параметров"
   ]
  },
  {
   "cell_type": "code",
   "execution_count": null,
   "id": "bdddd11d-cc81-4951-91db-f25a0d2183ef",
   "metadata": {},
   "outputs": [],
   "source": []
  }
 ],
 "metadata": {
  "kernelspec": {
   "display_name": "Python 3 (ipykernel)",
   "language": "python",
   "name": "python3"
  },
  "language_info": {
   "codemirror_mode": {
    "name": "ipython",
    "version": 3
   },
   "file_extension": ".py",
   "mimetype": "text/x-python",
   "name": "python",
   "nbconvert_exporter": "python",
   "pygments_lexer": "ipython3",
   "version": "3.12.4"
  }
 },
 "nbformat": 4,
 "nbformat_minor": 5
}
