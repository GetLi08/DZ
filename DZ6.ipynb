{
 "cells": [
  {
   "cell_type": "code",
   "execution_count": 95,
   "id": "fac7e6cf-4402-4d7a-a778-679f14cda945",
   "metadata": {},
   "outputs": [
    {
     "name": "stderr",
     "output_type": "stream",
     "text": [
      "C:\\Users\\TulOit\\AppData\\Local\\Temp\\ipykernel_24036\\2522098320.py:39: UserWarning: pandas only supports SQLAlchemy connectable (engine/connection) or database string URI or sqlite3 DBAPI2 connection. Other DBAPI2 objects are not tested. Please consider using SQLAlchemy.\n",
      "  df = pd.read_sql(query, con = engine)\n"
     ]
    }
   ],
   "source": [
    "import psycopg2\n",
    "import pandas as pd\n",
    "engine = psycopg2.connect(\"dbname='dvdrental' user='postgres' host='localhost' port='5432' password='pgcliff'\")\n",
    "### Запрос из ДЗ 4\n",
    "query = \"\"\"WITH cat_name AS\n",
    "(\n",
    "SELECT pay.customer_id,\n",
    "pay.rental_id, \n",
    "pay.amount,\n",
    "rent.inventory_id,\n",
    "inv.film_id,\n",
    "filmcat.category_id,\n",
    "f.length,\n",
    "cat.category_id,\n",
    "cat.name,\n",
    "CASE\n",
    "WHEN f.length > 0 AND f.length <= 50 THEN 'Shorts'\n",
    "WHEN f.length > 50 then 'Long'\n",
    "END AS lg\n",
    "FROM payment AS pay\n",
    "INNER JOIN rental AS rent\n",
    "ON pay.rental_id=rent.rental_id\n",
    "INNER JOIN inventory AS inv\n",
    "on rent.inventory_id=inv.inventory_id\n",
    "INNER JOIN film_category AS filmcat\n",
    "ON inv.film_id=filmcat.category_id\n",
    "INNER JOIN category AS cat\n",
    "ON filmcat.category_id=cat.category_id\n",
    "INNER JOIN film AS f\n",
    "ON f.film_id=filmcat.film_id\n",
    ")\n",
    "SELECT customer_id,\n",
    "cat_name.name,\n",
    "lg,\n",
    "amount\n",
    "FROM cat_name\n",
    "GROUP BY customer_id, amount, name, lg\n",
    "ORDER BY customer_id, amount DESC \"\"\"\n",
    "df = pd.read_sql(query, con = engine)"
   ]
  },
  {
   "cell_type": "code",
   "execution_count": 97,
   "id": "b20e0f4c-45d7-4633-a874-11ccdbc14064",
   "metadata": {},
   "outputs": [
    {
     "data": {
      "text/html": [
       "<div>\n",
       "<style scoped>\n",
       "    .dataframe tbody tr th:only-of-type {\n",
       "        vertical-align: middle;\n",
       "    }\n",
       "\n",
       "    .dataframe tbody tr th {\n",
       "        vertical-align: top;\n",
       "    }\n",
       "\n",
       "    .dataframe thead th {\n",
       "        text-align: right;\n",
       "    }\n",
       "</style>\n",
       "<table border=\"1\" class=\"dataframe\">\n",
       "  <thead>\n",
       "    <tr style=\"text-align: right;\">\n",
       "      <th></th>\n",
       "      <th>customer_id</th>\n",
       "      <th>name</th>\n",
       "      <th>lg</th>\n",
       "      <th>amount</th>\n",
       "    </tr>\n",
       "  </thead>\n",
       "  <tbody>\n",
       "    <tr>\n",
       "      <th>0</th>\n",
       "      <td>1</td>\n",
       "      <td>Children</td>\n",
       "      <td>Long</td>\n",
       "      <td>4.99</td>\n",
       "    </tr>\n",
       "    <tr>\n",
       "      <th>1</th>\n",
       "      <td>1</td>\n",
       "      <td>Children</td>\n",
       "      <td>Shorts</td>\n",
       "      <td>4.99</td>\n",
       "    </tr>\n",
       "    <tr>\n",
       "      <th>2</th>\n",
       "      <td>4</td>\n",
       "      <td>Horror</td>\n",
       "      <td>Long</td>\n",
       "      <td>0.99</td>\n",
       "    </tr>\n",
       "    <tr>\n",
       "      <th>3</th>\n",
       "      <td>4</td>\n",
       "      <td>Horror</td>\n",
       "      <td>Shorts</td>\n",
       "      <td>0.99</td>\n",
       "    </tr>\n",
       "    <tr>\n",
       "      <th>4</th>\n",
       "      <td>5</td>\n",
       "      <td>Documentary</td>\n",
       "      <td>Long</td>\n",
       "      <td>2.99</td>\n",
       "    </tr>\n",
       "    <tr>\n",
       "      <th>...</th>\n",
       "      <td>...</td>\n",
       "      <td>...</td>\n",
       "      <td>...</td>\n",
       "      <td>...</td>\n",
       "    </tr>\n",
       "    <tr>\n",
       "      <th>454</th>\n",
       "      <td>590</td>\n",
       "      <td>Comedy</td>\n",
       "      <td>Shorts</td>\n",
       "      <td>2.99</td>\n",
       "    </tr>\n",
       "    <tr>\n",
       "      <th>455</th>\n",
       "      <td>592</td>\n",
       "      <td>Music</td>\n",
       "      <td>Long</td>\n",
       "      <td>1.99</td>\n",
       "    </tr>\n",
       "    <tr>\n",
       "      <th>456</th>\n",
       "      <td>592</td>\n",
       "      <td>Music</td>\n",
       "      <td>Shorts</td>\n",
       "      <td>1.99</td>\n",
       "    </tr>\n",
       "    <tr>\n",
       "      <th>457</th>\n",
       "      <td>597</td>\n",
       "      <td>Action</td>\n",
       "      <td>Long</td>\n",
       "      <td>1.99</td>\n",
       "    </tr>\n",
       "    <tr>\n",
       "      <th>458</th>\n",
       "      <td>597</td>\n",
       "      <td>Action</td>\n",
       "      <td>Shorts</td>\n",
       "      <td>1.99</td>\n",
       "    </tr>\n",
       "  </tbody>\n",
       "</table>\n",
       "<p>459 rows × 4 columns</p>\n",
       "</div>"
      ],
      "text/plain": [
       "     customer_id         name      lg  amount\n",
       "0              1     Children    Long    4.99\n",
       "1              1     Children  Shorts    4.99\n",
       "2              4       Horror    Long    0.99\n",
       "3              4       Horror  Shorts    0.99\n",
       "4              5  Documentary    Long    2.99\n",
       "..           ...          ...     ...     ...\n",
       "454          590       Comedy  Shorts    2.99\n",
       "455          592        Music    Long    1.99\n",
       "456          592        Music  Shorts    1.99\n",
       "457          597       Action    Long    1.99\n",
       "458          597       Action  Shorts    1.99\n",
       "\n",
       "[459 rows x 4 columns]"
      ]
     },
     "execution_count": 97,
     "metadata": {},
     "output_type": "execute_result"
    }
   ],
   "source": [
    "df"
   ]
  },
  {
   "cell_type": "code",
   "execution_count": 99,
   "id": "685fb636-1cd2-4e9d-b176-cc2b1ebd3580",
   "metadata": {},
   "outputs": [
    {
     "data": {
      "text/plain": [
       "(459, 4)"
      ]
     },
     "execution_count": 99,
     "metadata": {},
     "output_type": "execute_result"
    }
   ],
   "source": [
    "### Размерность\n",
    "df.shape"
   ]
  },
  {
   "cell_type": "code",
   "execution_count": 101,
   "id": "4f737779-1bf6-4340-ad5f-e6e50ff5a117",
   "metadata": {},
   "outputs": [
    {
     "data": {
      "text/plain": [
       "customer_id      int64\n",
       "name            object\n",
       "lg              object\n",
       "amount         float64\n",
       "dtype: object"
      ]
     },
     "execution_count": 101,
     "metadata": {},
     "output_type": "execute_result"
    }
   ],
   "source": [
    "### Типы данных\n",
    "d_types = df.dtypes\n",
    "d_types"
   ]
  },
  {
   "cell_type": "code",
   "execution_count": 103,
   "id": "44045c8d-268b-4ce7-98f6-76a43fa52ae1",
   "metadata": {},
   "outputs": [
    {
     "name": "stdout",
     "output_type": "stream",
     "text": [
      "минимальное значение продажи 0.99 максимальное значение продажи 9.99 среднее значение 4.0379302832244015\n"
     ]
    }
   ],
   "source": [
    "print('минимальное значение продажи', df['amount'].min() ,'максимальное значение продажи', df['amount'].max(), 'среднее значение', df['amount'].mean())"
   ]
  },
  {
   "cell_type": "code",
   "execution_count": 105,
   "id": "e2f0431e-94b2-42cb-9bc7-3e0e810405f6",
   "metadata": {},
   "outputs": [
    {
     "name": "stdout",
     "output_type": "stream",
     "text": [
      "name\n",
      "Music          46\n",
      "Horror         42\n",
      "Action         42\n",
      "Classics       42\n",
      "Sports         40\n",
      "Documentary    38\n",
      "Drama          30\n",
      "Family         30\n",
      "Travel         26\n",
      "Foreign        24\n",
      "Games          23\n",
      "Children       22\n",
      "Comedy         22\n",
      "New            18\n",
      "Animation      14\n",
      "Name: count, dtype: int64\n"
     ]
    }
   ],
   "source": [
    "### Количество уникальных записей\n",
    "print(df['name'].value_counts())"
   ]
  },
  {
   "cell_type": "code",
   "execution_count": 107,
   "id": "2fbe4db9-c5cf-4ef1-812d-cceee972310f",
   "metadata": {},
   "outputs": [
    {
     "name": "stdout",
     "output_type": "stream",
     "text": [
      "15\n"
     ]
    }
   ],
   "source": [
    "###Количество уникальных значений \n",
    "print(len(set(df['name'])))"
   ]
  },
  {
   "cell_type": "code",
   "execution_count": null,
   "id": "d6616432-47dc-406c-a6cd-2fc10ca9fcbb",
   "metadata": {},
   "outputs": [],
   "source": []
  }
 ],
 "metadata": {
  "kernelspec": {
   "display_name": "Python 3 (ipykernel)",
   "language": "python",
   "name": "python3"
  },
  "language_info": {
   "codemirror_mode": {
    "name": "ipython",
    "version": 3
   },
   "file_extension": ".py",
   "mimetype": "text/x-python",
   "name": "python",
   "nbconvert_exporter": "python",
   "pygments_lexer": "ipython3",
   "version": "3.12.4"
  }
 },
 "nbformat": 4,
 "nbformat_minor": 5
}
