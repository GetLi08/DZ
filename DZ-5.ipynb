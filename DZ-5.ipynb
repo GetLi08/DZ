{
 "cells": [
  {
   "cell_type": "code",
   "execution_count": null,
   "id": "d576baf4-754f-445b-9892-16950e803805",
   "metadata": {},
   "outputs": [],
   "source": [
    "loan = input('Введите сумму кредита \\n')\n",
    "try : loan = float(loan)\n",
    "except: print('Введено некорректное значение')\n",
    "rate = input('Введите ставку по кредиту \\n')\n",
    "try : rate = float(rate)\n",
    "except: print('Введено некорректное значение')\n",
    "pmt = input('Введите сумму месячного платежа \\n')\n",
    "try : pmt = float(pmt)\n",
    "except: print('Введено некорректное значение')\n",
    "n = 0\n",
    "if pmt*12 <= loan*rate :\n",
    "    print('Кредит никогда не будет погашен')\n",
    "else: \n",
    "    while loan >= 0 :\n",
    "        loan = loan + loan*rate-pmt*12\n",
    "        n = n+1\n",
    "print('Кредит будет выплачен через ',n,' лет')"
   ]
  }
 ],
 "metadata": {
  "kernelspec": {
   "display_name": "Python 3 (ipykernel)",
   "language": "python",
   "name": "python3"
  },
  "language_info": {
   "codemirror_mode": {
    "name": "ipython",
    "version": 3
   },
   "file_extension": ".py",
   "mimetype": "text/x-python",
   "name": "python",
   "nbconvert_exporter": "python",
   "pygments_lexer": "ipython3",
   "version": "3.12.4"
  }
 },
 "nbformat": 4,
 "nbformat_minor": 5
}
